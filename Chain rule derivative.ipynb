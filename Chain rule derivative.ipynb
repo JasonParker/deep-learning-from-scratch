{
 "cells": [
  {
   "cell_type": "markdown",
   "id": "7ce39fa1-23b7-48e1-b76a-9ef355d58975",
   "metadata": {},
   "source": [
    "# Chain derivatives\n",
    "The purpose of this notebook is to develop a function that can receive an arbitrary\n",
    "number of functions along with an input array and return the derivative of that set of \n",
    "functions."
   ]
  },
  {
   "cell_type": "code",
   "execution_count": 9,
   "id": "87e19f66-3d67-4d02-923f-f5a3a6e0c93b",
   "metadata": {},
   "outputs": [],
   "source": [
    "import matplotlib.pyplot as plt\n",
    "import matplotlib\n",
    "import numpy as np\n",
    "from numpy import ndarray\n",
    "import pandas as pd\n",
    "from typing import Callable, List\n",
    "\n",
    "from src.math import derivative\n",
    "from src.math import tanh_function, softmax_function, sigmoid, relu, leaky_relu, square\n",
    "\n",
    "# A Function takes in an ndarray as an argument and produces an ndarray\n",
    "Array_Function = Callable[[ndarray], ndarray]\n",
    "\n",
    "# A Chain is a list of functions\n",
    "Chain = List[Array_Function]"
   ]
  },
  {
   "cell_type": "code",
   "execution_count": 46,
   "id": "f4d3cfae-d08a-4c90-b56c-41c3d2ae16f5",
   "metadata": {},
   "outputs": [
    {
     "data": {
      "text/plain": [
       "array([-0.05809723, -0.03974509, -0.019992  ,  0.        ,  0.39322385,\n",
       "        0.07065084])"
      ]
     },
     "execution_count": 46,
     "metadata": {},
     "output_type": "execute_result"
    }
   ],
   "source": [
    "def chain_deriv_3(chain: Chain,\n",
    "                  input_range: ndarray) -> ndarray:\n",
    "    '''\n",
    "    Uses the chain rule to compute the derivative of three nested functions:\n",
    "    (f3(f2(f1)))' = f3'(f2(f1(x))) * f2'(f1(x)) * f1'(x)\n",
    "    '''\n",
    "    \n",
    "    assert len(chain) == 3, \\\n",
    "    \"This function requires 'Chain' objects to have length 3\"\n",
    "    \n",
    "    f1 = chain[0]\n",
    "    f2 = chain[1]\n",
    "    f3 = chain[2]\n",
    "    \n",
    "    # f1(x)\n",
    "    f1_of_x = f1(input_range)\n",
    "    \n",
    "    # f2(f1_of_x)\n",
    "    f2_of_x = f2(f1_of_x)\n",
    "    \n",
    "    # df3du\n",
    "    df3du = derivative(f3, f2_of_x)\n",
    "    \n",
    "    # df2du\n",
    "    df2du = derivative(f2, f1_of_x)\n",
    "    \n",
    "    # df1du\n",
    "    df1dx = derivative(f1, input_range)\n",
    "    \n",
    "    ## Multiply these together at each point\n",
    "    return df1dx * df2du * df3du\n",
    "\n",
    "\n",
    "def test_chain_deriv_3():\n",
    "    chain_1 = [leaky_relu, square, sigmoid]\n",
    "    INPUT = np.arange(-3, 3, 1)\n",
    "    np.testing.assert_allclose( \n",
    "        list(chain_deriv_3(chain_1, INPUT)), \n",
    "        [-0.05809723, -0.03974509, -0.019992,  0.,  0.39322385, 0.07065084],\n",
    "        rtol=1e-6, atol=0\n",
    "    )\n",
    "    \n",
    "    \n",
    "INPUT_RANGE = np.arange(-3, 3, 1)\n",
    "\n",
    "chain_1 = [leaky_relu, square, sigmoid]\n",
    "chain_2 = [leaky_relu, sigmoid, square]\n",
    "\n",
    "chain_deriv_3(chain_1, INPUT_RANGE)"
   ]
  },
  {
   "cell_type": "code",
   "execution_count": 25,
   "id": "a1589af7-4d88-4d45-ac15-27c3d867f636",
   "metadata": {},
   "outputs": [],
   "source": [
    "test_chain_deriv_3()"
   ]
  },
  {
   "cell_type": "code",
   "execution_count": 94,
   "id": "048eb2b1-7246-4b4e-ac7d-f355e5df6577",
   "metadata": {},
   "outputs": [
    {
     "data": {
      "text/plain": [
       "array([-0.05809723, -0.03974509, -0.019992  ,  0.        ,  0.39322385,\n",
       "        0.07065084])"
      ]
     },
     "execution_count": 94,
     "metadata": {},
     "output_type": "execute_result"
    }
   ],
   "source": [
    "INPUT_RANGE = np.arange(-3, 3, 1)\n",
    "\n",
    "chain_1 = [leaky_relu, square, sigmoid]\n",
    "chain_2 = [leaky_relu, sigmoid, square]\n",
    "\n",
    "def derivative_chain_rule(chain: List,\n",
    "                          input_range: ndarray) -> ndarray:\n",
    "    \n",
    "    outputs = []\n",
    "    for i in range(0, len(chain) - 1):\n",
    "        if i == 0:\n",
    "            outputs.append(chain[i](input_range))\n",
    "        else: outputs.append(chain[i](outputs[i - 1]))\n",
    "        \n",
    "    derivatives = []\n",
    "    for i in range(len(chain) - 1, -1 , -1):\n",
    "        if i == 0:\n",
    "            derivatives.append(derivative(chain[i], input_range))\n",
    "        else: derivatives.append(derivative(chain[i], outputs[i - 1]))\n",
    "        \n",
    "    for i in range(1, len(chain)):\n",
    "        if i == 1:\n",
    "            product = np.multiply(derivatives[i - 1], derivatives[i])\n",
    "        else:\n",
    "            product = np.multiply(product, derivatives[i])\n",
    "    \n",
    "    return product\n",
    "\n",
    "x = derivative_chain_rule(chain_1, INPUT_RANGE)\n",
    "x\n"
   ]
  },
  {
   "cell_type": "code",
   "execution_count": 95,
   "id": "7dd0dc05-89fe-413a-a5a1-9baab828e729",
   "metadata": {},
   "outputs": [],
   "source": [
    "np.testing.assert_allclose( \n",
    "    derivative_chain_rule(chain_1, INPUT_RANGE), \n",
    "    chain_deriv_3(chain_1, INPUT_RANGE),\n",
    "    rtol=1e-6, atol=0\n",
    ")"
   ]
  },
  {
   "cell_type": "code",
   "execution_count": null,
   "id": "d5be0cd2-f6a0-4b19-9886-ea8e4b20bf17",
   "metadata": {},
   "outputs": [],
   "source": [
    "def countdown(n, chain):\n",
    "    print(n)\n",
    "    if n > 0:\n",
    "        countdown(n - 1, chain)\n",
    "\n",
    "def create_func(\n",
    "\n",
    "def derivative_chain_rule(chain: List,\n",
    "                          input_range: ndarray) -> ndarray:\n",
    "    inputs = []\n",
    "    outputs = []\n",
    "\n",
    "    \n",
    "    return product\n",
    "\n",
    "x = derivative_chain_rule(chain_1, INPUT_RANGE)"
   ]
  },
  {
   "cell_type": "code",
   "execution_count": 93,
   "id": "b386bdb2-a44f-488d-8f97-8e157c701171",
   "metadata": {},
   "outputs": [
    {
     "data": {
      "text/plain": [
       "array([ 1,  3,  6, 10, 15, 14, 12,  9,  5])"
      ]
     },
     "execution_count": 93,
     "metadata": {},
     "output_type": "execute_result"
    }
   ],
   "source": [
    "np.convolve(np.array([1,2,3,4,5]), np.array([1,1,1,1,1]))"
   ]
  }
 ],
 "metadata": {
  "kernelspec": {
   "display_name": "Python 3 (ipykernel)",
   "language": "python",
   "name": "python3"
  },
  "language_info": {
   "codemirror_mode": {
    "name": "ipython",
    "version": 3
   },
   "file_extension": ".py",
   "mimetype": "text/x-python",
   "name": "python",
   "nbconvert_exporter": "python",
   "pygments_lexer": "ipython3",
   "version": "3.8.9"
  }
 },
 "nbformat": 4,
 "nbformat_minor": 5
}
