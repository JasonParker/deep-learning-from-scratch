{
 "cells": [
  {
   "cell_type": "markdown",
   "id": "3dda460b-1d34-4c9c-b230-859d1d706216",
   "metadata": {},
   "source": [
    "# Chapter 1: Foundations"
   ]
  },
  {
   "cell_type": "markdown",
   "id": "00159586-5024-4d53-8d19-e438cff70800",
   "metadata": {},
   "source": [
    "\"The aim of this chapter is to explain some foundational mental models that are essential for understanding how neural networks work. Specifically, we'll cover *nested mathematical functions and their derivatives*.\"\n",
    "\n",
    "For foundational concepts, we'll introduce via three perspectives:\n",
    "1. Math, in the form of equations\n",
    "2. Code, with as little extra syntax as possible\n",
    "3. A diagram explaining what is going on\n",
    "\n",
    "\"one of the challenges of understanding neural networks is that it requires multiple mental models\""
   ]
  },
  {
   "cell_type": "markdown",
   "id": "d85cb576-8a3a-420e-8233-d72feccd8d7a",
   "metadata": {},
   "source": [
    "## Dependencies"
   ]
  },
  {
   "cell_type": "code",
   "execution_count": 28,
   "id": "b1343f1e-c6cb-4950-a87b-b8573302a1cb",
   "metadata": {},
   "outputs": [],
   "source": [
    "import numpy as np\n",
    "from numpy import ndarray\n",
    "from typing import Callable"
   ]
  },
  {
   "cell_type": "code",
   "execution_count": 22,
   "id": "95d6f8bf-54b8-4907-97a2-30b5c87112ed",
   "metadata": {},
   "outputs": [
    {
     "name": "stdout",
     "output_type": "stream",
     "text": [
      "Python list operations\n",
      "a+b [1, 2, 3, 4, 5, 6]\n"
     ]
    }
   ],
   "source": [
    "\n",
    "\n",
    "print(\"Python list operations\")\n",
    "a = [1,2,3]\n",
    "b = [4,5,6]\n",
    "print(\"a+b\", a+b)"
   ]
  },
  {
   "cell_type": "code",
   "execution_count": 3,
   "id": "9f8a6dd3-74f3-4a88-80ed-d3d5997aa087",
   "metadata": {},
   "outputs": [
    {
     "name": "stdout",
     "output_type": "stream",
     "text": [
      "a*b has no meaning for Python lists\n"
     ]
    }
   ],
   "source": [
    "try:\n",
    "    print(a*b)\n",
    "except TypeError:\n",
    "    print(\"a*b has no meaning for Python lists\")"
   ]
  },
  {
   "cell_type": "code",
   "execution_count": 6,
   "id": "71b9234f-7439-45d8-8693-d62d02b66bc3",
   "metadata": {},
   "outputs": [
    {
     "name": "stdout",
     "output_type": "stream",
     "text": [
      "numpy array operations\n",
      "a + b = [5 7 9]\n",
      "a * b = [ 4 10 18]\n"
     ]
    }
   ],
   "source": [
    "print(\"numpy array operations\")\n",
    "a = np.array([1,2,3])\n",
    "b = np.array([4,5,6])\n",
    "print(\"a + b =\", a+b)\n",
    "print(\"a * b =\", a*b)"
   ]
  },
  {
   "cell_type": "code",
   "execution_count": 18,
   "id": "1464112d-afd7-4c6f-af11-09e6ed27e4c7",
   "metadata": {},
   "outputs": [
    {
     "name": "stdout",
     "output_type": "stream",
     "text": [
      "[[1 2 3]\n",
      " [4 5 6]]\n"
     ]
    }
   ],
   "source": [
    "a = np.array([[1,2,3],\n",
    "              [4,5,6]]) \n",
    "print(a)\n"
   ]
  },
  {
   "cell_type": "markdown",
   "id": "c8031743-d8a4-493c-9d8f-84dc49ceb661",
   "metadata": {},
   "source": [
    "Each dimension of the array has an associated axis, making it possible to do intuitive numerical calculations along the different axes. For a 2D array, `axis = 0` corresponds to rows, `axis = 1` corresponds to columns."
   ]
  },
  {
   "cell_type": "code",
   "execution_count": 19,
   "id": "f949426e-0aa6-4482-a671-d698a066ff32",
   "metadata": {},
   "outputs": [
    {
     "name": "stdout",
     "output_type": "stream",
     "text": [
      "a:\n",
      "[[1 2 3]\n",
      " [4 5 6]]\n",
      "a.sum(axis = 0): [5 7 9]\n",
      "a.sum(axis = 1): [ 6 15]\n"
     ]
    }
   ],
   "source": [
    "print('a:')\n",
    "print(a)\n",
    "print('a.sum(axis = 0):', a.sum(axis = 0))\n",
    "print('a.sum(axis = 1):', a.sum(axis = 1))"
   ]
  },
  {
   "cell_type": "code",
   "execution_count": 20,
   "id": "335915cb-b5db-41d2-b678-be2f5036d47f",
   "metadata": {},
   "outputs": [
    {
     "name": "stdout",
     "output_type": "stream",
     "text": [
      "a + b:\n",
      " [[11 22 33]\n",
      " [14 25 36]]\n"
     ]
    }
   ],
   "source": [
    "b = np.array([10, 20, 30])\n",
    "print(\"a + b:\\n\", a + b)"
   ]
  },
  {
   "cell_type": "markdown",
   "id": "3a68af58-1318-4e6f-b6a9-ee83268f3089",
   "metadata": {},
   "source": [
    "Some basic functions in `numpy`"
   ]
  },
  {
   "cell_type": "code",
   "execution_count": 23,
   "id": "a3e19155-1357-4a47-b532-5ccda34d6124",
   "metadata": {},
   "outputs": [],
   "source": [
    "def square(x: ndarray) -> ndarray:\n",
    "    '''\n",
    "    Square each element in the input ndarray.\n",
    "    '''\n",
    "    return np.power(x, 2)\n",
    "\n",
    "\n",
    "def leaky_relu(x: ndarray) -> ndarray:\n",
    "    '''\n",
    "    Apply \"Leaky ReLU\" function to each element in ndarray.\n",
    "    '''\n",
    "    return np.maximum(0.2 * x, x)"
   ]
  },
  {
   "cell_type": "code",
   "execution_count": 25,
   "id": "d5e690e9-ae66-492b-9c96-0be8736dcf97",
   "metadata": {},
   "outputs": [
    {
     "data": {
      "text/plain": [
       "array([ 1,  4,  9, 16, 25, 36])"
      ]
     },
     "execution_count": 25,
     "metadata": {},
     "output_type": "execute_result"
    }
   ],
   "source": [
    "square(np.array([1,2,3,4,5,6]))"
   ]
  },
  {
   "cell_type": "code",
   "execution_count": 27,
   "id": "16bac507-8add-4ff6-97c0-a5e4a1520ada",
   "metadata": {},
   "outputs": [
    {
     "data": {
      "text/plain": [
       "array([ 1. ,  2. , -0.6,  4. , -1. ,  6. ])"
      ]
     },
     "execution_count": 27,
     "metadata": {},
     "output_type": "execute_result"
    }
   ],
   "source": [
    "leaky_relu(np.array([1,2,-3,4,-5,6]))"
   ]
  },
  {
   "cell_type": "markdown",
   "id": "afd4e9e9-70aa-449b-8f4f-de62ad3e56d5",
   "metadata": {},
   "source": [
    "## Derivatives"
   ]
  },
  {
   "cell_type": "code",
   "execution_count": 29,
   "id": "a8fc3328-2e28-4efc-8bff-0cc216e16d48",
   "metadata": {},
   "outputs": [],
   "source": [
    "def derivative(func: Callable[[ndarray], ndarray],\n",
    "               input_: ndarray,\n",
    "               delta: float = 0.001) -> ndarray:\n",
    "    '''\n",
    "    Evaluatves the derivative of a function \"func\" at every element in \n",
    "    the \"input_\" array.\n",
    "    '''\n",
    "    return (func(input_ + delta) - func(input_ - delta)) / (2 * delta)"
   ]
  },
  {
   "cell_type": "code",
   "execution_count": 31,
   "id": "a8133d26-9d0c-41bd-bae4-3283215ad434",
   "metadata": {},
   "outputs": [
    {
     "data": {
      "text/plain": [
       "array([ 2.,  4.,  8., 16., 40.])"
      ]
     },
     "execution_count": 31,
     "metadata": {},
     "output_type": "execute_result"
    }
   ],
   "source": [
    "derivative(square, np.array([1,2,4,8,20]) )"
   ]
  },
  {
   "cell_type": "code",
   "execution_count": null,
   "id": "9d503b9b-b259-4ed5-a770-25e08bf0389c",
   "metadata": {},
   "outputs": [],
   "source": []
  }
 ],
 "metadata": {
  "kernelspec": {
   "display_name": "Python 3 (ipykernel)",
   "language": "python",
   "name": "python3"
  },
  "language_info": {
   "codemirror_mode": {
    "name": "ipython",
    "version": 3
   },
   "file_extension": ".py",
   "mimetype": "text/x-python",
   "name": "python",
   "nbconvert_exporter": "python",
   "pygments_lexer": "ipython3",
   "version": "3.8.9"
  }
 },
 "nbformat": 4,
 "nbformat_minor": 5
}
