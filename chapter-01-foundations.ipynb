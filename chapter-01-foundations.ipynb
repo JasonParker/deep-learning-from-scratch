{
 "cells": [
  {
   "cell_type": "markdown",
   "id": "3dda460b-1d34-4c9c-b230-859d1d706216",
   "metadata": {},
   "source": [
    "# Chapter 1: Foundations"
   ]
  },
  {
   "cell_type": "markdown",
   "id": "00159586-5024-4d53-8d19-e438cff70800",
   "metadata": {},
   "source": [
    "\"The aim of this chapter is to explain some foundational mental models that are essential for understanding how neural networks work. Specifically, we'll cover *nested mathematical functions and their derivatives*.\"\n",
    "\n",
    "For foundational concepts, we'll introduce via three perspectives:\n",
    "1. Math, in the form of equations\n",
    "2. Code, with as little extra syntax as possible\n",
    "3. A diagram explaining what is going on\n",
    "\n",
    "\"one of the challenges of understanding neural networks is that it requires multiple mental models\""
   ]
  },
  {
   "cell_type": "markdown",
   "id": "d85cb576-8a3a-420e-8233-d72feccd8d7a",
   "metadata": {},
   "source": [
    "## Dependencies"
   ]
  },
  {
   "cell_type": "code",
   "execution_count": 11,
   "id": "b1343f1e-c6cb-4950-a87b-b8573302a1cb",
   "metadata": {},
   "outputs": [],
   "source": [
    "import matplotlib.pyplot as plt\n",
    "import matplotlib\n",
    "import numpy as np\n",
    "from numpy import ndarray\n",
    "from typing import Callable"
   ]
  },
  {
   "cell_type": "code",
   "execution_count": null,
   "id": "95d6f8bf-54b8-4907-97a2-30b5c87112ed",
   "metadata": {},
   "outputs": [],
   "source": [
    "\n",
    "\n",
    "print(\"Python list operations\")\n",
    "a = [1,2,3]\n",
    "b = [4,5,6]\n",
    "print(\"a+b\", a+b)"
   ]
  },
  {
   "cell_type": "code",
   "execution_count": null,
   "id": "9f8a6dd3-74f3-4a88-80ed-d3d5997aa087",
   "metadata": {},
   "outputs": [],
   "source": [
    "try:\n",
    "    print(a*b)\n",
    "except TypeError:\n",
    "    print(\"a*b has no meaning for Python lists\")"
   ]
  },
  {
   "cell_type": "code",
   "execution_count": null,
   "id": "71b9234f-7439-45d8-8693-d62d02b66bc3",
   "metadata": {},
   "outputs": [],
   "source": [
    "print(\"numpy array operations\")\n",
    "a = np.array([1,2,3])\n",
    "b = np.array([4,5,6])\n",
    "print(\"a + b =\", a+b)\n",
    "print(\"a * b =\", a*b)"
   ]
  },
  {
   "cell_type": "code",
   "execution_count": null,
   "id": "1464112d-afd7-4c6f-af11-09e6ed27e4c7",
   "metadata": {},
   "outputs": [],
   "source": [
    "a = np.array([[1,2,3],\n",
    "              [4,5,6]]) \n",
    "print(a)\n"
   ]
  },
  {
   "cell_type": "markdown",
   "id": "c8031743-d8a4-493c-9d8f-84dc49ceb661",
   "metadata": {},
   "source": [
    "Each dimension of the array has an associated axis, making it possible to do intuitive numerical calculations along the different axes. For a 2D array, `axis = 0` corresponds to rows, `axis = 1` corresponds to columns."
   ]
  },
  {
   "cell_type": "code",
   "execution_count": null,
   "id": "f949426e-0aa6-4482-a671-d698a066ff32",
   "metadata": {},
   "outputs": [],
   "source": [
    "print('a:')\n",
    "print(a)\n",
    "print('a.sum(axis = 0):', a.sum(axis = 0))\n",
    "print('a.sum(axis = 1):', a.sum(axis = 1))"
   ]
  },
  {
   "cell_type": "code",
   "execution_count": null,
   "id": "335915cb-b5db-41d2-b678-be2f5036d47f",
   "metadata": {},
   "outputs": [],
   "source": [
    "b = np.array([10, 20, 30])\n",
    "print(\"a + b:\\n\", a + b)"
   ]
  },
  {
   "cell_type": "markdown",
   "id": "3a68af58-1318-4e6f-b6a9-ee83268f3089",
   "metadata": {},
   "source": [
    "Some basic functions in `numpy`"
   ]
  },
  {
   "cell_type": "code",
   "execution_count": null,
   "id": "a3e19155-1357-4a47-b532-5ccda34d6124",
   "metadata": {},
   "outputs": [],
   "source": [
    "def square(x: ndarray) -> ndarray:\n",
    "    '''\n",
    "    Square each element in the input ndarray.\n",
    "    '''\n",
    "    return np.power(x, 2)\n",
    "\n",
    "\n",
    "def leaky_relu(x: ndarray) -> ndarray:\n",
    "    '''\n",
    "    Apply \"Leaky ReLU\" function to each element in ndarray.\n",
    "    '''\n",
    "    return np.maximum(0.2 * x, x)\n"
   ]
  },
  {
   "cell_type": "code",
   "execution_count": null,
   "id": "d5e690e9-ae66-492b-9c96-0be8736dcf97",
   "metadata": {},
   "outputs": [],
   "source": [
    "square(np.array([1,2,3,4,5,6]))"
   ]
  },
  {
   "cell_type": "code",
   "execution_count": null,
   "id": "16bac507-8add-4ff6-97c0-a5e4a1520ada",
   "metadata": {},
   "outputs": [],
   "source": [
    "leaky_relu(np.array([1,2,-3,4,-5,6]))"
   ]
  },
  {
   "cell_type": "markdown",
   "id": "afd4e9e9-70aa-449b-8f4f-de62ad3e56d5",
   "metadata": {},
   "source": [
    "## Derivatives"
   ]
  },
  {
   "cell_type": "code",
   "execution_count": null,
   "id": "a8fc3328-2e28-4efc-8bff-0cc216e16d48",
   "metadata": {},
   "outputs": [],
   "source": [
    "def derivative(func: Callable[[ndarray], ndarray],\n",
    "               input_: ndarray,\n",
    "               delta: float = 0.001) -> ndarray:\n",
    "    '''\n",
    "    Evaluatves the derivative of a function \"func\" at every element in \n",
    "    the \"input_\" array.\n",
    "    '''\n",
    "    return (func(input_ + delta) - func(input_ - delta)) / (2 * delta)"
   ]
  },
  {
   "cell_type": "code",
   "execution_count": null,
   "id": "a8133d26-9d0c-41bd-bae4-3283215ad434",
   "metadata": {},
   "outputs": [],
   "source": [
    "derivative(square, np.array([1,2,4,8,20]) )"
   ]
  },
  {
   "cell_type": "markdown",
   "id": "6b848631-2c1c-4b3f-a0ed-6a0dc7987ee2",
   "metadata": {},
   "source": [
    "# Nested functions"
   ]
  },
  {
   "cell_type": "markdown",
   "id": "a6faeb21-a3ca-4b7f-9f5b-12904342fe0a",
   "metadata": {},
   "source": [
    "The idea of nesting functions such that the output of one becomes the input for another is crucial for understanding neural networks.\n",
    "\n",
    "\"computing derivatives of composite functions will turn out to be essential for training deep learning models\" (11)"
   ]
  },
  {
   "cell_type": "markdown",
   "id": "113c8f84-d4fb-4e9a-b668-643c6ed3e076",
   "metadata": {},
   "source": [
    "## Sigmoid"
   ]
  },
  {
   "cell_type": "code",
   "execution_count": null,
   "id": "1f5cee53-0254-4cf8-9ff0-c663df73f3f1",
   "metadata": {},
   "outputs": [],
   "source": [
    "def sigmoid(x: ndarray) -> ndarray:\n",
    "    '''\n",
    "    Apply the sigmoid function to each element in the input ndarray.\n",
    "    '''\n",
    "    return 1 / (1 + np.exp(-x))"
   ]
  },
  {
   "cell_type": "markdown",
   "id": "bea6db0b-b892-4d58-8c2a-8ee43286e57a",
   "metadata": {},
   "source": [
    "## Chain rule"
   ]
  },
  {
   "cell_type": "code",
   "execution_count": null,
   "id": "6e97b2d9-35cf-4337-94a5-56d373ee7beb",
   "metadata": {},
   "outputs": [],
   "source": [
    "from typing import List\n",
    "\n",
    "# A Function takes in an ndarray as an argument and produces an ndarray\n",
    "Array_Function = Callable[[ndarray], ndarray]\n",
    "\n",
    "# A Chain is a list of functions\n",
    "Chain = List[Array_Function]\n",
    "\n",
    "\n",
    "def chain_length_2(chain: Chain,\n",
    "                   x: ndarray) -> ndarray:\n",
    "    '''\n",
    "    Evaluates two functions in a row, in a \"Chain\".\n",
    "    '''\n",
    "    assert len(chain) == 2, \\\n",
    "    \"Length of input 'chain' should be 2\"\n",
    "\n",
    "    f1 = chain[0]\n",
    "    f2 = chain[1]\n",
    "\n",
    "    return f2(f1(x))\n",
    "\n",
    "\n",
    "def chain_deriv_2(chain: Chain,\n",
    "                  input_range: ndarray) -> ndarray:\n",
    "    '''\n",
    "    Uses the chain rule to compute the derivative of two nested functions:\n",
    "    (f2(f1(x))' = f2'(f1(x)) * f1'(x)\n",
    "    '''\n",
    "\n",
    "    assert len(chain) == 2, \\\n",
    "    \"This function requires 'Chain' objects of length 2\"\n",
    "\n",
    "    assert input_range.ndim == 1, \\\n",
    "    \"Function requires a 1 dimensional ndarray as input_range\"\n",
    "\n",
    "    f1 = chain[0]\n",
    "    f2 = chain[1]\n",
    "\n",
    "    # df1/dx\n",
    "    f1_of_x = f1(input_range)\n",
    "\n",
    "    # df1/du\n",
    "    df1dx = derivative(f1, input_range)\n",
    "\n",
    "    # df2/du(f1(x))\n",
    "    df2du = derivative(f2, f1(input_range))\n",
    "\n",
    "    # Multiplying these quantities together at each point\n",
    "    return df1dx * df2du\n",
    "\n",
    "\n",
    "def plot_chain(ax,\n",
    "               chain: Chain, \n",
    "               input_range: ndarray) -> None:\n",
    "    '''\n",
    "    Plots a chain function - a function made up of \n",
    "    multiple consecutive ndarray -> ndarray mappings - \n",
    "    Across the input_range\n",
    "    \n",
    "    ax: matplotlib Subplot for plotting\n",
    "    '''\n",
    "    \n",
    "    assert input_range.ndim == 1, \\\n",
    "    \"Function requires a 1 dimensional ndarray as input_range\"\n",
    "\n",
    "    output_range = chain_length_2(chain, input_range)\n",
    "    ax.plot(input_range, output_range)\n",
    "    \n",
    "    \n",
    "def plot_chain_deriv(ax,\n",
    "                     chain: Chain,\n",
    "                     input_range: ndarray) -> ndarray:\n",
    "    '''\n",
    "    Uses the chain rule to plot the derivative of a function consisting of two nested functions.\n",
    "    \n",
    "    ax: matplotlib Subplot for plotting\n",
    "    '''\n",
    "    output_range = chain_deriv_2(chain, input_range)\n",
    "    ax.plot(input_range, output_range)\n",
    "    \n",
    "    \n",
    "fig, ax = plt.subplots(1, 2, sharey=True, figsize=(16, 8))  # 2 Rows, 1 Col\n",
    "\n",
    "chain_1 = [square, sigmoid]\n",
    "chain_2 = [sigmoid, square]\n",
    "\n",
    "PLOT_RANGE = np.arange(-3, 3, 0.01)\n",
    "plot_chain(ax[0], chain_1, PLOT_RANGE)\n",
    "plot_chain_deriv(ax[0], chain_1, PLOT_RANGE)\n",
    "\n",
    "ax[0].legend([\"$f(x)$\", \"$\\\\frac{df}{dx}$\"])\n",
    "ax[0].set_title(\"Function and derivative for\\n$f(x) = sigmoid(square(x))$\")\n",
    "\n",
    "plot_chain(ax[1], chain_2, PLOT_RANGE)\n",
    "plot_chain_deriv(ax[1], chain_2, PLOT_RANGE)\n",
    "ax[1].legend([\"$f(x)$\", \"$\\\\frac{df}{dx}$\"])\n",
    "ax[1].set_title(\"Function and derivative for\\n$f(x) = square(sigmoid(x))$\");"
   ]
  },
  {
   "cell_type": "markdown",
   "id": "2f0143a1-769b-46d3-81c4-022c39185cfd",
   "metadata": {},
   "source": [
    "\"It will turn out that deep learning models are, mathematically, long chains of these mostly differentiable functions\" (14)"
   ]
  },
  {
   "cell_type": "markdown",
   "id": "8f721a4b-a87d-4170-a322-a994cc4db2b3",
   "metadata": {},
   "source": [
    "## Longer example\n",
    "\"if we have three mostly differentiable functions, how would we go about computing the derivative of f1f2f3?\" (14)\n",
    "\"Interestingly, already in this simple example we see the beginnings of what will become the forward and backward passes of a neural network\""
   ]
  },
  {
   "cell_type": "code",
   "execution_count": null,
   "id": "98c62b96-b9fd-46ed-8f8c-4b020e6c4282",
   "metadata": {},
   "outputs": [],
   "source": [
    "def chain_deriv_3(chain: Chain,\n",
    "                  input_range: ndarray) -> ndarray:\n",
    "    '''\n",
    "    Uses the chain rule to compute the derivative of three nested functions:\n",
    "    (f3(f2(f1)))' = f3'(f2(f1(x))) * f2'(f1(x)) * f1'(x)\n",
    "    '''\n",
    "    \n",
    "    assert len(chain) == 3, \\\n",
    "    \"This function requires 'Chain' objects to have length 3\"\n",
    "    \n",
    "    f1 = chain[0]\n",
    "    f2 = chain[1]\n",
    "    f3 = chain[2]\n",
    "    \n",
    "    # f1(x)\n",
    "    f1_of_x = f1(input_range)\n",
    "    \n",
    "    # f2(f1_of_x)\n",
    "    f2_of_x = f2(f1_of_x)\n",
    "    \n",
    "    # df3du\n",
    "    df3du = derivative(f3, f2_of_x)\n",
    "    \n",
    "    # df2du\n",
    "    df2du = derivative(f2, f1_of_x)\n",
    "    \n",
    "    # df1du\n",
    "    df1dx = derivative(f1, input_range)\n",
    "    \n",
    "    ## Multiply these together at each point\n",
    "    return df1dx * df2du * df3du\n",
    "\n",
    "\n",
    "def plot_chain(ax,\n",
    "               chain: Chain, \n",
    "               input_range: ndarray,\n",
    "               length: int=2) -> None:\n",
    "    '''\n",
    "    Plots a chain function - a function made up of \n",
    "    multiple consecutive ndarray -> ndarray mappings - across one range\n",
    "    \n",
    "    ax: matplotlib Subplot for plotting\n",
    "    '''\n",
    "    \n",
    "    assert input_range.ndim == 1, \\\n",
    "    \"Function requires a 1 dimensional ndarray as input_range\"\n",
    "    if length == 2:\n",
    "        output_range = chain_length_2(chain, input_range)\n",
    "    elif length == 3:\n",
    "        output_range = chain_length_3(chain, input_range)\n",
    "    ax.plot(input_range, output_range)\n",
    "\n",
    "    \n",
    "def plot_chain_deriv(ax,\n",
    "                     chain: Chain,\n",
    "                     input_range: ndarray,\n",
    "                     length: int=2) -> ndarray:\n",
    "    '''\n",
    "    Uses the chain rule to plot the derivative of two nested functions.\n",
    "    \n",
    "    ax: matplotlib Subplot for plotting\n",
    "    '''\n",
    "\n",
    "    if length == 2:\n",
    "        output_range = chain_deriv_2(chain, input_range)\n",
    "    elif length == 3:\n",
    "        output_range = chain_deriv_3(chain, input_range)\n",
    "    ax.plot(input_range, output_range)\n",
    "    \n",
    "    \n",
    "def chain_length_3(chain: Chain,\n",
    "                   x: ndarray) -> ndarray:\n",
    "    '''\n",
    "    Evaluates three functions in a row, in a \"Chain\".\n",
    "    '''\n",
    "    assert len(chain) == 3, \\\n",
    "    \"Length of input 'chain' should be 3\"\n",
    "\n",
    "    f1 = chain[0]\n",
    "    f2 = chain[1]\n",
    "    f3 = chain[2]\n",
    "\n",
    "    return f3(f2(f1(x)))\n",
    "\n",
    "\n",
    "fig, ax = plt.subplots(1, 2, sharey=True, figsize=(16, 8))  # 2 Rows, 1 Col\n",
    "\n",
    "chain_1 = [leaky_relu, square, sigmoid]\n",
    "chain_2 = [leaky_relu, sigmoid, square]\n",
    "\n",
    "PLOT_RANGE = np.arange(-3, 3, 0.01)\n",
    "plot_chain(ax[0], chain_1, PLOT_RANGE, length=3)\n",
    "plot_chain_deriv(ax[0], chain_1, PLOT_RANGE, length=3)\n",
    "\n",
    "ax[0].legend([\"$f(x)$\", \"$\\\\frac{df}{dx}$\"])\n",
    "ax[0].set_title(\"Function and derivative for\\n$f(x) = sigmoid(square(leakyRrelu(x)))$\")\n",
    "\n",
    "plot_chain(ax[1], chain_2, PLOT_RANGE, length=3)\n",
    "plot_chain_deriv(ax[1], chain_2, PLOT_RANGE, length=3)\n",
    "ax[1].legend([\"$f(x)$\", \"$\\\\frac{df}{dx}$\"])\n",
    "ax[1].set_title(\"Function and derivative for\\n$f(x) = square(sigmoid(leakyRelu(x)))$\");"
   ]
  },
  {
   "cell_type": "code",
   "execution_count": null,
   "id": "c72b67d7-1d0e-42b1-bf2d-b9b3ca83a8a4",
   "metadata": {},
   "outputs": [],
   "source": [
    "def binary_step_function(x: ndarray,\n",
    "                         threshold: float) -> ndarray:\n",
    "    '''\n",
    "    Apply binary step function to each element in ndarray using\n",
    "    float threshold as the basis for activation.\n",
    "    '''\n",
    "    def binary_step(item):\n",
    "        if item < threshold:\n",
    "            return 0\n",
    "        else:\n",
    "            return 1\n",
    "    return np.array([binary_step(item) for item in x])\n",
    "\n",
    "\n",
    "binary_step_function(np.array([4, 0, 1, 2, -5]), 3)"
   ]
  },
  {
   "cell_type": "code",
   "execution_count": null,
   "id": "1ae87463-500a-43e1-898a-52649046c42b",
   "metadata": {},
   "outputs": [],
   "source": [
    "\n",
    "\n",
    "def linear_activation(x: ndarray, slope: float) -> ndarray:\n",
    "    '''\n",
    "    Apply linear function to each element in ndarray using\n",
    "    float slope as the basis for activation.\n",
    "    '''\n",
    "    return x * slope\n",
    "\n"
   ]
  },
  {
   "cell_type": "code",
   "execution_count": 1,
   "id": "79422a65-2fc2-44f7-ba25-5eb439957936",
   "metadata": {},
   "outputs": [
    {
     "data": {
      "text/plain": [
       "array([0.08021815, 0.11967141, 0.80011044])"
      ]
     },
     "execution_count": 1,
     "metadata": {},
     "output_type": "execute_result"
    }
   ],
   "source": [
    "from src.math import tanh_function, softmax_function\n",
    "import numpy as np\n",
    "\n",
    "INPUT = np.array([0.8, 1.2, 3.1])\n",
    "softmax_function(INPUT)"
   ]
  },
  {
   "cell_type": "code",
   "execution_count": 2,
   "id": "a6534261-8dde-41ea-9211-c30f15b8acb4",
   "metadata": {},
   "outputs": [],
   "source": [
    "assert 1==1"
   ]
  },
  {
   "cell_type": "code",
   "execution_count": 4,
   "id": "eb87ee75-11e4-4ae6-a442-bc9ec1f8bb06",
   "metadata": {},
   "outputs": [
    {
     "data": {
      "text/plain": [
       "25"
      ]
     },
     "execution_count": 4,
     "metadata": {},
     "output_type": "execute_result"
    }
   ],
   "source": [
    "import numpy as np\n",
    "\n",
    "np.dot([3,4], [3,4])"
   ]
  },
  {
   "cell_type": "code",
   "execution_count": 8,
   "id": "a262b49e-6729-4665-931f-bde8a765f52a",
   "metadata": {},
   "outputs": [
    {
     "data": {
      "text/plain": [
       "array([[3, 5],\n",
       "       [4, 6]])"
      ]
     },
     "execution_count": 8,
     "metadata": {},
     "output_type": "execute_result"
    }
   ],
   "source": [
    "np.transpose([[3,4],[5,6]])"
   ]
  },
  {
   "cell_type": "code",
   "execution_count": 9,
   "id": "e47211fa-822a-48fa-b262-f1f23638df27",
   "metadata": {},
   "outputs": [
    {
     "data": {
      "text/plain": [
       "array([1., 1., 1., 1., 1., 1.])"
      ]
     },
     "execution_count": 9,
     "metadata": {},
     "output_type": "execute_result"
    }
   ],
   "source": [
    "np.ones(6)"
   ]
  },
  {
   "cell_type": "code",
   "execution_count": 12,
   "id": "5cc92279-dc0d-4969-bff4-54f2785f75bc",
   "metadata": {},
   "outputs": [],
   "source": [
    "def matmul_backward_first(X: ndarray,\n",
    "                          W: ndarray) -> ndarray:\n",
    "    '''\n",
    "    Computes the backward pass of a matrix multiplication with respect to the first argument.\n",
    "    '''\n",
    "\n",
    "    # backward pass\n",
    "    dNdX = np.transpose(W, (1, 0))\n",
    "\n",
    "    return dNdX"
   ]
  },
  {
   "cell_type": "code",
   "execution_count": 13,
   "id": "528e83c9-a6c7-4d29-a6d1-80305606b9c0",
   "metadata": {},
   "outputs": [
    {
     "name": "stdout",
     "output_type": "stream",
     "text": [
      "[[ 0.47231121  0.61514271 -1.72622715]]\n",
      "[[ 0.92819676]\n",
      " [-0.60754888]\n",
      " [-1.22136052]]\n"
     ]
    },
    {
     "data": {
      "text/plain": [
       "array([[ 0.92819676, -0.60754888, -1.22136052]])"
      ]
     },
     "execution_count": 13,
     "metadata": {},
     "output_type": "execute_result"
    }
   ],
   "source": [
    "np.random.seed(190203)\n",
    "\n",
    "X = np.random.randn(1,3)\n",
    "W = np.random.randn(3,1)\n",
    "\n",
    "print(X)\n",
    "print(W)\n",
    "matmul_backward_first(X, W)"
   ]
  },
  {
   "cell_type": "markdown",
   "id": "d2bd1441-a4e5-4d54-8793-f789a7ed9e9f",
   "metadata": {},
   "source": [
    "## Partial derivatives\n",
    "\n",
    "In mathematics, a [partial derivative](https://en.wikipedia.org/wiki/Partial_derivative) of a function of several variables is its derivative with respect to one of those variables, with the others held constant (as opposed to the total derivative, in which all variables are allowed to vary). Partial derivatives are used in vector calculus and differential geometry."
   ]
  },
  {
   "cell_type": "markdown",
   "id": "c8f2d70c-b99d-46ee-9ec0-c16eb4ec26bb",
   "metadata": {},
   "source": [
    "\"The term 'gradient' as we'll use it in this book simply refers to a multidimensional analogue of the partial derivative; specifically, it is an array of partial derivatives of the output of a function with respect to each element of the input to that function\" (25)"
   ]
  },
  {
   "cell_type": "code",
   "execution_count": 14,
   "id": "91e216d5-1375-4d57-a3c6-b7fd9ba0f6c4",
   "metadata": {},
   "outputs": [],
   "source": [
    "def matmul_forward(X: ndarray,\n",
    "                   W: ndarray) -> ndarray:\n",
    "    '''\n",
    "    Computes the forward pass of a matrix multiplication\n",
    "    '''\n",
    "    \n",
    "    assert X.shape[1] == W.shape[0], \\\n",
    "    '''\n",
    "    For matrix multiplication, the number of columns in the first array should match the\n",
    "    number of rows in the second, instead the number of columns in the first array is {0}\n",
    "    and the number of rows in the second array is {1}\n",
    "    '''.format(X.shape[1], W.shape[0])\n",
    "\n",
    "    # matrix multiplication\n",
    "    N = np.dot(X, W)\n",
    "\n",
    "    return N\n",
    "\n",
    "\n"
   ]
  },
  {
   "cell_type": "code",
   "execution_count": 15,
   "id": "02ebacda-0052-413f-b5ef-d1c2475806df",
   "metadata": {},
   "outputs": [
    {
     "name": "stdout",
     "output_type": "stream",
     "text": [
      "[[ 0.47231121  0.61514271 -1.72622715]]\n",
      "[[ 0.92819676]\n",
      " [-0.60754888]\n",
      " [-1.22136052]]\n"
     ]
    }
   ],
   "source": [
    "np.random.seed(190203)\n",
    "\n",
    "X = np.random.randn(1,3)\n",
    "W = np.random.randn(3,1)\n",
    "\n",
    "print(X)\n",
    "print(W)"
   ]
  },
  {
   "cell_type": "code",
   "execution_count": 17,
   "id": "0fae61af-76ce-4c46-b34d-cc6f3e91f635",
   "metadata": {},
   "outputs": [
    {
     "data": {
      "text/plain": [
       "array([[0.89779986]])"
      ]
     },
     "execution_count": 17,
     "metadata": {},
     "output_type": "execute_result"
    }
   ],
   "source": [
    "from src.math import sigmoid\n",
    "\n",
    "sigmoid(matmul_forward(X, W))"
   ]
  },
  {
   "cell_type": "code",
   "execution_count": 25,
   "id": "d14ede15-3832-4477-9ca5-dbc02c1513eb",
   "metadata": {},
   "outputs": [
    {
     "data": {
      "text/plain": [
       "18"
      ]
     },
     "execution_count": 25,
     "metadata": {},
     "output_type": "execute_result"
    }
   ],
   "source": [
    "np.sum([[3,4], [5,6]])"
   ]
  },
  {
   "cell_type": "code",
   "execution_count": 31,
   "id": "ce36fa04-4885-4f27-a081-75220ef02ecd",
   "metadata": {},
   "outputs": [
    {
     "data": {
      "text/html": [
       "<div>\n",
       "<style scoped>\n",
       "    .dataframe tbody tr th:only-of-type {\n",
       "        vertical-align: middle;\n",
       "    }\n",
       "\n",
       "    .dataframe tbody tr th {\n",
       "        vertical-align: top;\n",
       "    }\n",
       "\n",
       "    .dataframe thead th {\n",
       "        text-align: right;\n",
       "    }\n",
       "</style>\n",
       "<table border=\"1\" class=\"dataframe\">\n",
       "  <thead>\n",
       "    <tr style=\"text-align: right;\">\n",
       "      <th></th>\n",
       "      <th>col1</th>\n",
       "      <th>col2</th>\n",
       "      <th>col3</th>\n",
       "    </tr>\n",
       "  </thead>\n",
       "  <tbody>\n",
       "    <tr>\n",
       "      <th>0</th>\n",
       "      <td>1</td>\n",
       "      <td>3</td>\n",
       "      <td>5</td>\n",
       "    </tr>\n",
       "    <tr>\n",
       "      <th>1</th>\n",
       "      <td>2</td>\n",
       "      <td>4</td>\n",
       "      <td>6</td>\n",
       "    </tr>\n",
       "  </tbody>\n",
       "</table>\n",
       "</div>"
      ],
      "text/plain": [
       "   col1  col2  col3\n",
       "0     1     3     5\n",
       "1     2     4     6"
      ]
     },
     "execution_count": 31,
     "metadata": {},
     "output_type": "execute_result"
    }
   ],
   "source": [
    "import pandas as pd\n",
    "\n",
    "d = {'col1': [1, 2], 'col2': [3, 4], 'col3': [5,6]}\n",
    "df = pd.DataFrame(data=d)\n",
    "df.head()"
   ]
  },
  {
   "cell_type": "code",
   "execution_count": 33,
   "id": "e258ef35-d6cb-448c-b613-3ff2370194c9",
   "metadata": {},
   "outputs": [
    {
     "data": {
      "text/html": [
       "<div>\n",
       "<style scoped>\n",
       "    .dataframe tbody tr th:only-of-type {\n",
       "        vertical-align: middle;\n",
       "    }\n",
       "\n",
       "    .dataframe tbody tr th {\n",
       "        vertical-align: top;\n",
       "    }\n",
       "\n",
       "    .dataframe thead th {\n",
       "        text-align: right;\n",
       "    }\n",
       "</style>\n",
       "<table border=\"1\" class=\"dataframe\">\n",
       "  <thead>\n",
       "    <tr style=\"text-align: right;\">\n",
       "      <th></th>\n",
       "      <th>col1</th>\n",
       "      <th>col2</th>\n",
       "    </tr>\n",
       "  </thead>\n",
       "  <tbody>\n",
       "    <tr>\n",
       "      <th>0</th>\n",
       "      <td>1</td>\n",
       "      <td>3</td>\n",
       "    </tr>\n",
       "    <tr>\n",
       "      <th>1</th>\n",
       "      <td>2</td>\n",
       "      <td>4</td>\n",
       "    </tr>\n",
       "  </tbody>\n",
       "</table>\n",
       "</div>"
      ],
      "text/plain": [
       "   col1  col2\n",
       "0     1     3\n",
       "1     2     4"
      ]
     },
     "execution_count": 33,
     "metadata": {},
     "output_type": "execute_result"
    }
   ],
   "source": [
    "thing = df[['col1', 'col2']].copy()\n",
    "thing.head()"
   ]
  },
  {
   "cell_type": "code",
   "execution_count": null,
   "id": "3422536c-69a1-47f6-9fed-77dc13811205",
   "metadata": {},
   "outputs": [],
   "source": []
  }
 ],
 "metadata": {
  "kernelspec": {
   "display_name": "Python 3 (ipykernel)",
   "language": "python",
   "name": "python3"
  },
  "language_info": {
   "codemirror_mode": {
    "name": "ipython",
    "version": 3
   },
   "file_extension": ".py",
   "mimetype": "text/x-python",
   "name": "python",
   "nbconvert_exporter": "python",
   "pygments_lexer": "ipython3",
   "version": "3.8.9"
  }
 },
 "nbformat": 4,
 "nbformat_minor": 5
}
